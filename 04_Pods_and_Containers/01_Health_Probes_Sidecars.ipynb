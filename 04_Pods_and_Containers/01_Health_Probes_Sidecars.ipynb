{
 "cells": [
  {
   "cell_type": "markdown",
   "id": "63a149a0",
   "metadata": {},
   "source": [
    "\n",
    "---\n",
    "\n",
    "# 🩺 **Health Probes & Sidecars**\n",
    "\n",
    "---\n",
    "\n",
    "## 🔎 Probes (health checks)\n",
    "\n",
    "* **🟢 readinessProbe** → send traffic **only when ready**\n",
    "* **❤️ livenessProbe** → restart container if **stuck**\n",
    "* **⏳ startupProbe** → grace period for **slow boots** (model loading)\n",
    "\n",
    "**Example (LLM on :8000)**\n",
    "\n",
    "```yaml\n",
    "readinessProbe: { httpGet: { path: /health, port: 8000 } }\n",
    "livenessProbe:  { httpGet: { path: /health, port: 8000 }, initialDelaySeconds: 20 }\n",
    "startupProbe:   { httpGet: { path: /health, port: 8000 }, periodSeconds: 5, failureThreshold: 30 }\n",
    "```\n",
    "\n",
    "**Graceful shutdown**\n",
    "\n",
    "```yaml\n",
    "terminationGracePeriodSeconds: 30\n",
    "lifecycle:\n",
    "  preStop:\n",
    "    exec: { command: [\"sh\",\"-c\",\"sleep 15\"] }\n",
    "```\n",
    "\n",
    "---\n",
    "\n",
    "## 🛡️ Sidecars (when useful)\n",
    "\n",
    "* **🔒 Proxy/auth/rate-limit** → shield LLM APIs\n",
    "* **📡 Telemetry/log forwarder** → ship metrics/logs out\n",
    "* ❌ Init tasks are **not sidecars** → use **initContainers**\n",
    "\n",
    "---\n",
    "\n",
    "## ⚡ Quick tips\n",
    "\n",
    "* Probes must hit a **fast** path (`/health`) not generation.\n",
    "* Use **terminationGracePeriodSeconds** to drain traffic.\n",
    "* Keep sidecars **lightweight** → heavy work = initContainer.\n",
    "\n",
    "---\n",
    "\n"
   ]
  }
 ],
 "metadata": {
  "language_info": {
   "name": "python"
  }
 },
 "nbformat": 4,
 "nbformat_minor": 5
}
